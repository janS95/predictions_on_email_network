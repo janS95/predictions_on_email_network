{
 "cells": [
  {
   "cell_type": "markdown",
   "metadata": {},
   "source": [
    "## Import Libraries"
   ]
  },
  {
   "cell_type": "code",
   "execution_count": 1,
   "metadata": {},
   "outputs": [],
   "source": [
    "import networkx as nx\n",
    "import pickle\n",
    "import pandas as pd\n",
    "from sklearn.ensemble import RandomForestClassifier\n",
    "from sklearn.model_selection import train_test_split\n",
    "from sklearn.metrics import roc_auc_score"
   ]
  },
  {
   "cell_type": "markdown",
   "metadata": {},
   "source": [
    "# Read Data"
   ]
  },
  {
   "cell_type": "code",
   "execution_count": 2,
   "metadata": {},
   "outputs": [],
   "source": [
    "G = nx.read_gpickle('datasets/email_prediction')\n",
    "\n",
    "df = pd.DataFrame(G.nodes(data=True))\n",
    "df['Department'] = df[1].map(lambda x:x['Department'])\n",
    "df['ManagementSalary'] = df[1].map(lambda x:x['ManagementSalary'])"
   ]
  },
  {
   "cell_type": "markdown",
   "metadata": {},
   "source": [
    "## Generate Features"
   ]
  },
  {
   "cell_type": "code",
   "execution_count": 3,
   "metadata": {},
   "outputs": [],
   "source": [
    "df['Clustering'] = pd.Series(nx.clustering(G))\n",
    "df['DegreeCentrality'] = pd.Series(nx.degree_centrality(G))\n",
    "df['ClosenessCentrality'] = pd.Series(nx.closeness_centrality(G))\n",
    "df['BetweennessCentrality'] = pd.Series(nx.betweenness_centrality(G,normalized=True,endpoints=False))\n",
    "\n",
    "del df[0]\n",
    "del df[1]"
   ]
  },
  {
   "cell_type": "markdown",
   "metadata": {},
   "source": [
    "## Generate Evaluation / Training Data"
   ]
  },
  {
   "cell_type": "code",
   "execution_count": 4,
   "metadata": {},
   "outputs": [],
   "source": [
    "df_EVAL = df[df['ManagementSalary'].isnull()]\n",
    "df = df[~df['ManagementSalary'].isnull()]\n",
    "\n",
    "X = df[['Clustering','DegreeCentrality','ClosenessCentrality','BetweennessCentrality']]\n",
    "y = df['ManagementSalary']"
   ]
  },
  {
   "cell_type": "markdown",
   "metadata": {},
   "source": [
    "## Split Training Data for validation"
   ]
  },
  {
   "cell_type": "code",
   "execution_count": 5,
   "metadata": {},
   "outputs": [],
   "source": [
    "X_train, X_test, y_train, y_test = train_test_split(X,y,random_state=1)"
   ]
  },
  {
   "cell_type": "markdown",
   "metadata": {},
   "source": [
    "## Fit Random Forest Classifier"
   ]
  },
  {
   "cell_type": "code",
   "execution_count": 6,
   "metadata": {},
   "outputs": [],
   "source": [
    "rf = RandomForestClassifier(max_depth=2,random_state=0).fit(X,y)"
   ]
  },
  {
   "cell_type": "markdown",
   "metadata": {},
   "source": [
    "## Calculate AUC Score"
   ]
  },
  {
   "cell_type": "code",
   "execution_count": 7,
   "metadata": {},
   "outputs": [
    {
     "name": "stdout",
     "output_type": "stream",
     "text": [
      "0.9479035639412998\n"
     ]
    }
   ],
   "source": [
    "y_predict = rf.predict_proba(X_test)\n",
    "auc = roc_auc_score(y_test,y_predict[:,1])\n",
    "print(auc)"
   ]
  },
  {
   "cell_type": "markdown",
   "metadata": {},
   "source": [
    "## Make prediction for evaluation data"
   ]
  },
  {
   "cell_type": "code",
   "execution_count": 8,
   "metadata": {},
   "outputs": [
    {
     "name": "stdout",
     "output_type": "stream",
     "text": [
      "[0. 1.]\n"
     ]
    },
    {
     "data": {
      "text/plain": [
       "1       0.156986\n",
       "2       0.871266\n",
       "5       0.980515\n",
       "8       0.143872\n",
       "14      0.206239\n",
       "          ...   \n",
       "992     0.041342\n",
       "994     0.041342\n",
       "996     0.041342\n",
       "1000    0.053944\n",
       "1001    0.053944\n",
       "Length: 252, dtype: float64"
      ]
     },
     "execution_count": 8,
     "metadata": {},
     "output_type": "execute_result"
    }
   ],
   "source": [
    "X = df_EVAL[['Clustering','DegreeCentrality','ClosenessCentrality','BetweennessCentrality']]\n",
    "predictions = rf.predict_proba(X)\n",
    "print(rf.classes_)\n",
    "pred = predictions[:,1]\n",
    "df_EVAL['ManagementSalary'] = pred\n",
    "ret = df_EVAL['ManagementSalary']\n",
    "ret.name = None\n",
    "\n",
    "ret"
   ]
  }
 ],
 "metadata": {
  "kernelspec": {
   "display_name": "Python 3",
   "language": "python",
   "name": "python3"
  },
  "language_info": {
   "codemirror_mode": {
    "name": "ipython",
    "version": 3
   },
   "file_extension": ".py",
   "mimetype": "text/x-python",
   "name": "python",
   "nbconvert_exporter": "python",
   "pygments_lexer": "ipython3",
   "version": "3.8.2"
  }
 },
 "nbformat": 4,
 "nbformat_minor": 4
}
