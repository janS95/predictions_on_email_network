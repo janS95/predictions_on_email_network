{
 "cells": [
  {
   "cell_type": "markdown",
   "metadata": {},
   "source": [
    "## Import Libraries"
   ]
  },
  {
   "cell_type": "code",
   "execution_count": 1,
   "metadata": {},
   "outputs": [],
   "source": [
    "import networkx as nx\n",
    "import pandas as pd\n",
    "from sklearn.ensemble import RandomForestClassifier\n",
    "from sklearn.model_selection import train_test_split\n",
    "from sklearn.metrics import roc_auc_score"
   ]
  },
  {
   "cell_type": "markdown",
   "metadata": {},
   "source": [
    "## Read Data"
   ]
  },
  {
   "cell_type": "code",
   "execution_count": 2,
   "metadata": {},
   "outputs": [],
   "source": [
    "G = nx.read_gpickle('datasets/email_prediction')\n",
    "future_connections = pd.read_csv('datasets/Future_Connections.csv',\n",
    "                                 index_col=0, converters={0: eval})\n",
    "\n",
    "df = future_connections.reset_index()\n",
    "df = df.rename(columns={'index':'Edges'})"
   ]
  },
  {
   "cell_type": "markdown",
   "metadata": {},
   "source": [
    "## Generate Features"
   ]
  },
  {
   "cell_type": "code",
   "execution_count": 3,
   "metadata": {},
   "outputs": [],
   "source": [
    "df['CommonNeighbors'] = df['Edges'].apply(lambda x: \n",
    "                                          len(list(nx.common_neighbors(G,x[0],x[1]))))\n",
    "df['Jaccard'] = df['Edges'].apply(lambda x: \n",
    "                                  list(nx.jaccard_coefficient(G,[x]))[0][2])\n",
    "df['ResourceAllocation'] = df['Edges'].apply(lambda x: \n",
    "                                             list(nx.resource_allocation_index(G,[x]))[0][2])\n",
    "\n",
    "for no in G.nodes(data=True):\n",
    "    G.nodes[no[0]]['community'] = no[1]['Department']\n",
    "   \n",
    "df['CommunityCommonNeighbors'] = df['Edges'].apply(lambda x: \n",
    "                                                   list(nx.cn_soundarajan_hopcroft(G,[x]))[0][2])"
   ]
  },
  {
   "cell_type": "markdown",
   "metadata": {},
   "source": [
    "## Generate Evaluation / Training Data"
   ]
  },
  {
   "cell_type": "code",
   "execution_count": 4,
   "metadata": {},
   "outputs": [],
   "source": [
    "df_EVAL = df[df['Future Connection'].isnull()]\n",
    "df = df[~df['Future Connection'].isnull()]\n",
    "\n",
    "X = df[['CommonNeighbors','Jaccard','ResourceAllocation','CommunityCommonNeighbors']]\n",
    "y = df['Future Connection']"
   ]
  },
  {
   "cell_type": "markdown",
   "metadata": {},
   "source": [
    "## Split Training Data for Validation"
   ]
  },
  {
   "cell_type": "code",
   "execution_count": 5,
   "metadata": {},
   "outputs": [],
   "source": [
    "X_train, X_test, y_train, y_test = train_test_split(X,y,random_state=1)"
   ]
  },
  {
   "cell_type": "markdown",
   "metadata": {},
   "source": [
    "## Fit RandomForestClassifier"
   ]
  },
  {
   "cell_type": "code",
   "execution_count": 6,
   "metadata": {},
   "outputs": [],
   "source": [
    "rf = RandomForestClassifier(max_depth=2,random_state=0).fit(X_train,y_train)"
   ]
  },
  {
   "cell_type": "markdown",
   "metadata": {},
   "source": [
    "## Calculate AUC Score"
   ]
  },
  {
   "cell_type": "code",
   "execution_count": 9,
   "metadata": {},
   "outputs": [
    {
     "name": "stdout",
     "output_type": "stream",
     "text": [
      "0.9012176024936611\n"
     ]
    }
   ],
   "source": [
    "y_predict = rf.predict_proba(X_test)\n",
    "auc = roc_auc_score(y_test,y_predict[:,1])\n",
    "print(auc)"
   ]
  },
  {
   "cell_type": "markdown",
   "metadata": {},
   "source": [
    "## Make predictions for evaluation data"
   ]
  },
  {
   "cell_type": "code",
   "execution_count": 10,
   "metadata": {},
   "outputs": [
    {
     "name": "stdout",
     "output_type": "stream",
     "text": [
      "[0. 1.]\n"
     ]
    },
    {
     "data": {
      "text/plain": [
       "(107, 348)    0.021746\n",
       "(542, 751)    0.021746\n",
       "(20, 426)     0.616059\n",
       "(50, 989)     0.021746\n",
       "(942, 986)    0.021746\n",
       "                ...   \n",
       "(165, 923)    0.021746\n",
       "(673, 755)    0.021746\n",
       "(939, 940)    0.021746\n",
       "(555, 905)    0.021746\n",
       "(75, 101)     0.021746\n",
       "Length: 122112, dtype: float64"
      ]
     },
     "execution_count": 10,
     "metadata": {},
     "output_type": "execute_result"
    }
   ],
   "source": [
    "X_eval = df_EVAL[['CommonNeighbors','Jaccard','ResourceAllocation','CommunityCommonNeighbors']]\n",
    "predictions = rf.predict_proba(X_eval)\n",
    "print(rf.classes_)\n",
    "pred = predictions[:,1]\n",
    "df_EVAL['Future Connection'] = pred\n",
    "df_EVAL = df_EVAL.set_index('Edges')\n",
    "ret = df_EVAL['Future Connection']\n",
    "ret.name = None\n",
    "ret.index.name = None\n",
    "\n",
    "ret"
   ]
  }
 ],
 "metadata": {
  "kernelspec": {
   "display_name": "Python 3",
   "language": "python",
   "name": "python3"
  },
  "language_info": {
   "codemirror_mode": {
    "name": "ipython",
    "version": 3
   },
   "file_extension": ".py",
   "mimetype": "text/x-python",
   "name": "python",
   "nbconvert_exporter": "python",
   "pygments_lexer": "ipython3",
   "version": "3.8.2"
  }
 },
 "nbformat": 4,
 "nbformat_minor": 4
}
